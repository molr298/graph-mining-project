{
 "cells": [
  {
   "cell_type": "code",
   "execution_count": 2,
   "metadata": {},
   "outputs": [
    {
     "name": "stdout",
     "output_type": "stream",
     "text": [
      "Requirement already satisfied: igraph in d:\\anaconda3\\lib\\site-packages (0.9.11)Note: you may need to restart the kernel to use updated packages.\n",
      "Requirement already satisfied: texttable>=1.6.2 in d:\\anaconda3\\lib\\site-packages (from igraph) (1.6.4)\n",
      "\n"
     ]
    },
    {
     "name": "stderr",
     "output_type": "stream",
     "text": [
      "WARNING: You are using pip version 20.2.3; however, version 22.1.2 is available.\n",
      "You should consider upgrading via the 'd:\\anaconda3\\python.exe -m pip install --upgrade pip' command.\n"
     ]
    }
   ],
   "source": [
    "pip install igraph"
   ]
  },
  {
   "cell_type": "code",
   "execution_count": 3,
   "metadata": {},
   "outputs": [],
   "source": [
    "from igraph import *\n",
    "import pandas as pd\n",
    "import numpy as np\n",
    "from collections import Counter\n",
    "import itertools\n"
   ]
  },
  {
   "cell_type": "code",
   "execution_count": 4,
   "metadata": {},
   "outputs": [],
   "source": [
    "data_ = pd.read_csv(\"D:\\Zoom_HK3_2021\\Graph mining\\Final Seminar\\primaryschool.csv\")\n",
    "\n",
    "Source = list(data_['Source'].unique())\n",
    "Target = list(data_['Target'].unique())\n",
    "\n",
    "data = data_.groupby(\"Source\")[\"Target\"].apply(list).to_dict()"
   ]
  },
  {
   "cell_type": "code",
   "execution_count": 5,
   "metadata": {},
   "outputs": [
    {
     "data": {
      "text/plain": [
       "{1: [1, 2, 3, 4, 5, 6, 7, 8, 9, 10, 11, 12], 2: [16, 13, 14, 15]}"
      ]
     },
     "execution_count": 5,
     "metadata": {},
     "output_type": "execute_result"
    }
   ],
   "source": [
    "Components = dict()\n",
    "Num_Components = 1\n",
    "Component = []\n",
    "Component.append(data_.iloc[0,0])\n",
    "Component.append(data_.iloc[0,1])\n",
    "\n",
    "for node in range(len(data_)) :\n",
    "    if data_.iloc[node,0] in Component or  data_.iloc[node,1] in Component :\n",
    "         Component.append(data_.iloc[node,0])\n",
    "         Component.append(data_.iloc[node,1])\n",
    "    else :\n",
    "        Components[Num_Components] = list(set(Component))\n",
    "        Component= []\n",
    "        Component.append(data_.iloc[node,0])\n",
    "        Component.append(data_.iloc[node,1])\n",
    "        Num_Components+=1\n",
    "    if node == len(data_) - 1:\n",
    "         Components[Num_Components] = list(set(Component))\n",
    "Components"
   ]
  },
  {
   "cell_type": "code",
   "execution_count": 6,
   "metadata": {},
   "outputs": [],
   "source": [
    "Vertex_ = list(itertools.chain(Source, Target)) "
   ]
  },
  {
   "cell_type": "code",
   "execution_count": 7,
   "metadata": {},
   "outputs": [],
   "source": [
    "Vertex_ = list(set(Vertex_))"
   ]
  },
  {
   "cell_type": "code",
   "execution_count": 8,
   "metadata": {},
   "outputs": [],
   "source": [
    "graph = Graph().community_multilevel()\n"
   ]
  },
  {
   "cell_type": "code",
   "execution_count": 9,
   "metadata": {},
   "outputs": [],
   "source": [
    "graph = Graph(edges= [(v, a) for v in data.keys() for a in data[v]])"
   ]
  },
  {
   "cell_type": "code",
   "execution_count": null,
   "metadata": {},
   "outputs": [],
   "source": []
  },
  {
   "cell_type": "code",
   "execution_count": 15,
   "metadata": {},
   "outputs": [
    {
     "data": {
      "text/plain": [
       "{1: [2, 3, 4],\n",
       " 2: [5, 6, 7],\n",
       " 3: [6, 7],\n",
       " 4: [5, 7, 8],\n",
       " 5: [6, 9],\n",
       " 6: [7, 9, 10],\n",
       " 7: [9, 10],\n",
       " 8: [10],\n",
       " 9: [10, 11],\n",
       " 10: [12],\n",
       " 11: [12],\n",
       " 13: [15, 14, 16]}"
      ]
     },
     "execution_count": 15,
     "metadata": {},
     "output_type": "execute_result"
    }
   ],
   "source": [
    "data"
   ]
  },
  {
   "cell_type": "code",
   "execution_count": 11,
   "metadata": {},
   "outputs": [],
   "source": [
    "Vertex_ = graph.get_vertex_dataframe()"
   ]
  },
  {
   "cell_type": "code",
   "execution_count": 12,
   "metadata": {},
   "outputs": [
    {
     "data": {
      "image/svg+xml": "<?xml version=\"1.0\" encoding=\"UTF-8\"?>\n<svg xmlns=\"http://www.w3.org/2000/svg\" xmlns:xlink=\"http://www.w3.org/1999/xlink\" width=\"600pt\" height=\"600pt\" viewBox=\"0 0 600 600\" version=\"1.1\">\n<g id=\"surface2\">\n<rect x=\"0\" y=\"0\" width=\"600\" height=\"600\" style=\"fill:rgb(100%,100%,100%);fill-opacity:1;stroke:none;\"/>\n<path style=\"fill:none;stroke-width:1;stroke-linecap:butt;stroke-linejoin:miter;stroke:rgb(26.666667%,26.666667%,26.666667%);stroke-opacity:1;stroke-miterlimit:10;\" d=\"M 20 299.015625 L 102.1875 263.355469 \"/>\n<path style=\"fill:none;stroke-width:1;stroke-linecap:butt;stroke-linejoin:miter;stroke:rgb(26.666667%,26.666667%,26.666667%);stroke-opacity:1;stroke-miterlimit:10;\" d=\"M 20 299.015625 L 134.644531 348.597656 \"/>\n<path style=\"fill:none;stroke-width:1;stroke-linecap:butt;stroke-linejoin:miter;stroke:rgb(26.666667%,26.666667%,26.666667%);stroke-opacity:1;stroke-miterlimit:10;\" d=\"M 20 299.015625 L 60.03125 150.914063 \"/>\n<path style=\"fill:none;stroke-width:1;stroke-linecap:butt;stroke-linejoin:miter;stroke:rgb(26.666667%,26.666667%,26.666667%);stroke-opacity:1;stroke-miterlimit:10;\" d=\"M 102.1875 263.355469 L 141.125 149.40625 \"/>\n<path style=\"fill:none;stroke-width:1;stroke-linecap:butt;stroke-linejoin:miter;stroke:rgb(26.666667%,26.666667%,26.666667%);stroke-opacity:1;stroke-miterlimit:10;\" d=\"M 102.1875 263.355469 L 222.265625 244.882813 \"/>\n<path style=\"fill:none;stroke-width:1;stroke-linecap:butt;stroke-linejoin:miter;stroke:rgb(26.666667%,26.666667%,26.666667%);stroke-opacity:1;stroke-miterlimit:10;\" d=\"M 102.1875 263.355469 L 175.996094 213.582031 \"/>\n<path style=\"fill:none;stroke-width:1;stroke-linecap:butt;stroke-linejoin:miter;stroke:rgb(26.666667%,26.666667%,26.666667%);stroke-opacity:1;stroke-miterlimit:10;\" d=\"M 134.644531 348.597656 L 222.265625 244.882813 \"/>\n<path style=\"fill:none;stroke-width:1;stroke-linecap:butt;stroke-linejoin:miter;stroke:rgb(26.666667%,26.666667%,26.666667%);stroke-opacity:1;stroke-miterlimit:10;\" d=\"M 134.644531 348.597656 L 175.996094 213.582031 \"/>\n<path style=\"fill:none;stroke-width:1;stroke-linecap:butt;stroke-linejoin:miter;stroke:rgb(26.666667%,26.666667%,26.666667%);stroke-opacity:1;stroke-miterlimit:10;\" d=\"M 60.03125 150.914063 L 141.125 149.40625 \"/>\n<path style=\"fill:none;stroke-width:1;stroke-linecap:butt;stroke-linejoin:miter;stroke:rgb(26.666667%,26.666667%,26.666667%);stroke-opacity:1;stroke-miterlimit:10;\" d=\"M 60.03125 150.914063 L 175.996094 213.582031 \"/>\n<path style=\"fill:none;stroke-width:1;stroke-linecap:butt;stroke-linejoin:miter;stroke:rgb(26.666667%,26.666667%,26.666667%);stroke-opacity:1;stroke-miterlimit:10;\" d=\"M 60.03125 150.914063 L 163.898438 41.414063 \"/>\n<path style=\"fill:none;stroke-width:1;stroke-linecap:butt;stroke-linejoin:miter;stroke:rgb(26.666667%,26.666667%,26.666667%);stroke-opacity:1;stroke-miterlimit:10;\" d=\"M 141.125 149.40625 L 222.265625 244.882813 \"/>\n<path style=\"fill:none;stroke-width:1;stroke-linecap:butt;stroke-linejoin:miter;stroke:rgb(26.666667%,26.666667%,26.666667%);stroke-opacity:1;stroke-miterlimit:10;\" d=\"M 141.125 149.40625 L 251.480469 108.203125 \"/>\n<path style=\"fill:none;stroke-width:1;stroke-linecap:butt;stroke-linejoin:miter;stroke:rgb(26.666667%,26.666667%,26.666667%);stroke-opacity:1;stroke-miterlimit:10;\" d=\"M 222.265625 244.882813 L 175.996094 213.582031 \"/>\n<path style=\"fill:none;stroke-width:1;stroke-linecap:butt;stroke-linejoin:miter;stroke:rgb(26.666667%,26.666667%,26.666667%);stroke-opacity:1;stroke-miterlimit:10;\" d=\"M 222.265625 244.882813 L 251.480469 108.203125 \"/>\n<path style=\"fill:none;stroke-width:1;stroke-linecap:butt;stroke-linejoin:miter;stroke:rgb(26.666667%,26.666667%,26.666667%);stroke-opacity:1;stroke-miterlimit:10;\" d=\"M 222.265625 244.882813 L 295.019531 146.074219 \"/>\n<path style=\"fill:none;stroke-width:1;stroke-linecap:butt;stroke-linejoin:miter;stroke:rgb(26.666667%,26.666667%,26.666667%);stroke-opacity:1;stroke-miterlimit:10;\" d=\"M 175.996094 213.582031 L 251.480469 108.203125 \"/>\n<path style=\"fill:none;stroke-width:1;stroke-linecap:butt;stroke-linejoin:miter;stroke:rgb(26.666667%,26.666667%,26.666667%);stroke-opacity:1;stroke-miterlimit:10;\" d=\"M 175.996094 213.582031 L 295.019531 146.074219 \"/>\n<path style=\"fill:none;stroke-width:1;stroke-linecap:butt;stroke-linejoin:miter;stroke:rgb(26.666667%,26.666667%,26.666667%);stroke-opacity:1;stroke-miterlimit:10;\" d=\"M 163.898438 41.414063 L 295.019531 146.074219 \"/>\n<path style=\"fill:none;stroke-width:1;stroke-linecap:butt;stroke-linejoin:miter;stroke:rgb(26.666667%,26.666667%,26.666667%);stroke-opacity:1;stroke-miterlimit:10;\" d=\"M 251.480469 108.203125 L 295.019531 146.074219 \"/>\n<path style=\"fill:none;stroke-width:1;stroke-linecap:butt;stroke-linejoin:miter;stroke:rgb(26.666667%,26.666667%,26.666667%);stroke-opacity:1;stroke-miterlimit:10;\" d=\"M 251.480469 108.203125 L 369.691406 20 \"/>\n<path style=\"fill:none;stroke-width:1;stroke-linecap:butt;stroke-linejoin:miter;stroke:rgb(26.666667%,26.666667%,26.666667%);stroke-opacity:1;stroke-miterlimit:10;\" d=\"M 295.019531 146.074219 L 425.339844 100.152344 \"/>\n<path style=\"fill:none;stroke-width:1;stroke-linecap:butt;stroke-linejoin:miter;stroke:rgb(26.666667%,26.666667%,26.666667%);stroke-opacity:1;stroke-miterlimit:10;\" d=\"M 369.691406 20 L 425.339844 100.152344 \"/>\n<path style=\"fill:none;stroke-width:1;stroke-linecap:butt;stroke-linejoin:miter;stroke:rgb(26.666667%,26.666667%,26.666667%);stroke-opacity:1;stroke-miterlimit:10;\" d=\"M 350.460938 529.777344 L 250.578125 580 \"/>\n<path style=\"fill:none;stroke-width:1;stroke-linecap:butt;stroke-linejoin:miter;stroke:rgb(26.666667%,26.666667%,26.666667%);stroke-opacity:1;stroke-miterlimit:10;\" d=\"M 350.460938 529.777344 L 427.375 575.496094 \"/>\n<path style=\"fill:none;stroke-width:1;stroke-linecap:butt;stroke-linejoin:miter;stroke:rgb(26.666667%,26.666667%,26.666667%);stroke-opacity:1;stroke-miterlimit:10;\" d=\"M 350.460938 529.777344 L 438.019531 451.148438 \"/>\n<path style=\"fill-rule:nonzero;fill:rgb(100%,0%,0%);fill-opacity:1;stroke-width:1;stroke-linecap:butt;stroke-linejoin:miter;stroke:rgb(0%,0%,0%);stroke-opacity:1;stroke-miterlimit:10;\" d=\"M 590 258.015625 C 590 263.539063 585.523438 268.015625 580 268.015625 C 574.476563 268.015625 570 263.539063 570 258.015625 C 570 252.492188 574.476563 248.015625 580 248.015625 C 585.523438 248.015625 590 252.492188 590 258.015625 \"/>\n<path style=\"fill-rule:nonzero;fill:rgb(100%,0%,0%);fill-opacity:1;stroke-width:1;stroke-linecap:butt;stroke-linejoin:miter;stroke:rgb(0%,0%,0%);stroke-opacity:1;stroke-miterlimit:10;\" d=\"M 30 299.015625 C 30 304.539063 25.523438 309.015625 20 309.015625 C 14.476563 309.015625 10 304.539063 10 299.015625 C 10 293.492188 14.476563 289.015625 20 289.015625 C 25.523438 289.015625 30 293.492188 30 299.015625 \"/>\n<path style=\"fill-rule:nonzero;fill:rgb(100%,0%,0%);fill-opacity:1;stroke-width:1;stroke-linecap:butt;stroke-linejoin:miter;stroke:rgb(0%,0%,0%);stroke-opacity:1;stroke-miterlimit:10;\" d=\"M 112.1875 263.355469 C 112.1875 268.878906 107.710938 273.355469 102.1875 273.355469 C 96.664063 273.355469 92.1875 268.878906 92.1875 263.355469 C 92.1875 257.832031 96.664063 253.355469 102.1875 253.355469 C 107.710938 253.355469 112.1875 257.832031 112.1875 263.355469 \"/>\n<path style=\"fill-rule:nonzero;fill:rgb(100%,0%,0%);fill-opacity:1;stroke-width:1;stroke-linecap:butt;stroke-linejoin:miter;stroke:rgb(0%,0%,0%);stroke-opacity:1;stroke-miterlimit:10;\" d=\"M 144.644531 348.597656 C 144.644531 354.121094 140.167969 358.597656 134.644531 358.597656 C 129.121094 358.597656 124.644531 354.121094 124.644531 348.597656 C 124.644531 343.074219 129.121094 338.597656 134.644531 338.597656 C 140.167969 338.597656 144.644531 343.074219 144.644531 348.597656 \"/>\n<path style=\"fill-rule:nonzero;fill:rgb(100%,0%,0%);fill-opacity:1;stroke-width:1;stroke-linecap:butt;stroke-linejoin:miter;stroke:rgb(0%,0%,0%);stroke-opacity:1;stroke-miterlimit:10;\" d=\"M 70.03125 150.914063 C 70.03125 156.4375 65.554688 160.914063 60.03125 160.914063 C 54.507813 160.914063 50.03125 156.4375 50.03125 150.914063 C 50.03125 145.394531 54.507813 140.914063 60.03125 140.914063 C 65.554688 140.914063 70.03125 145.394531 70.03125 150.914063 \"/>\n<path style=\"fill-rule:nonzero;fill:rgb(100%,0%,0%);fill-opacity:1;stroke-width:1;stroke-linecap:butt;stroke-linejoin:miter;stroke:rgb(0%,0%,0%);stroke-opacity:1;stroke-miterlimit:10;\" d=\"M 151.125 149.40625 C 151.125 154.929688 146.648438 159.40625 141.125 159.40625 C 135.601563 159.40625 131.125 154.929688 131.125 149.40625 C 131.125 143.886719 135.601563 139.40625 141.125 139.40625 C 146.648438 139.40625 151.125 143.886719 151.125 149.40625 \"/>\n<path style=\"fill-rule:nonzero;fill:rgb(100%,0%,0%);fill-opacity:1;stroke-width:1;stroke-linecap:butt;stroke-linejoin:miter;stroke:rgb(0%,0%,0%);stroke-opacity:1;stroke-miterlimit:10;\" d=\"M 232.265625 244.882813 C 232.265625 250.40625 227.789063 254.882813 222.265625 254.882813 C 216.742188 254.882813 212.265625 250.40625 212.265625 244.882813 C 212.265625 239.359375 216.742188 234.882813 222.265625 234.882813 C 227.789063 234.882813 232.265625 239.359375 232.265625 244.882813 \"/>\n<path style=\"fill-rule:nonzero;fill:rgb(100%,0%,0%);fill-opacity:1;stroke-width:1;stroke-linecap:butt;stroke-linejoin:miter;stroke:rgb(0%,0%,0%);stroke-opacity:1;stroke-miterlimit:10;\" d=\"M 185.996094 213.582031 C 185.996094 219.105469 181.519531 223.582031 175.996094 223.582031 C 170.476563 223.582031 165.996094 219.105469 165.996094 213.582031 C 165.996094 208.058594 170.476563 203.582031 175.996094 203.582031 C 181.519531 203.582031 185.996094 208.058594 185.996094 213.582031 \"/>\n<path style=\"fill-rule:nonzero;fill:rgb(100%,0%,0%);fill-opacity:1;stroke-width:1;stroke-linecap:butt;stroke-linejoin:miter;stroke:rgb(0%,0%,0%);stroke-opacity:1;stroke-miterlimit:10;\" d=\"M 173.898438 41.414063 C 173.898438 46.933594 169.421875 51.414063 163.898438 51.414063 C 158.375 51.414063 153.898438 46.933594 153.898438 41.414063 C 153.898438 35.890625 158.375 31.414063 163.898438 31.414063 C 169.421875 31.414063 173.898438 35.890625 173.898438 41.414063 \"/>\n<path style=\"fill-rule:nonzero;fill:rgb(100%,0%,0%);fill-opacity:1;stroke-width:1;stroke-linecap:butt;stroke-linejoin:miter;stroke:rgb(0%,0%,0%);stroke-opacity:1;stroke-miterlimit:10;\" d=\"M 261.480469 108.203125 C 261.480469 113.726563 257.003906 118.203125 251.480469 118.203125 C 245.957031 118.203125 241.480469 113.726563 241.480469 108.203125 C 241.480469 102.679688 245.957031 98.203125 251.480469 98.203125 C 257.003906 98.203125 261.480469 102.679688 261.480469 108.203125 \"/>\n<path style=\"fill-rule:nonzero;fill:rgb(100%,0%,0%);fill-opacity:1;stroke-width:1;stroke-linecap:butt;stroke-linejoin:miter;stroke:rgb(0%,0%,0%);stroke-opacity:1;stroke-miterlimit:10;\" d=\"M 305.019531 146.074219 C 305.019531 151.59375 300.542969 156.074219 295.019531 156.074219 C 289.5 156.074219 285.019531 151.59375 285.019531 146.074219 C 285.019531 140.550781 289.5 136.074219 295.019531 136.074219 C 300.542969 136.074219 305.019531 140.550781 305.019531 146.074219 \"/>\n<path style=\"fill-rule:nonzero;fill:rgb(100%,0%,0%);fill-opacity:1;stroke-width:1;stroke-linecap:butt;stroke-linejoin:miter;stroke:rgb(0%,0%,0%);stroke-opacity:1;stroke-miterlimit:10;\" d=\"M 379.691406 20 C 379.691406 25.523438 375.214844 30 369.691406 30 C 364.167969 30 359.691406 25.523438 359.691406 20 C 359.691406 14.476563 364.167969 10 369.691406 10 C 375.214844 10 379.691406 14.476563 379.691406 20 \"/>\n<path style=\"fill-rule:nonzero;fill:rgb(100%,0%,0%);fill-opacity:1;stroke-width:1;stroke-linecap:butt;stroke-linejoin:miter;stroke:rgb(0%,0%,0%);stroke-opacity:1;stroke-miterlimit:10;\" d=\"M 435.339844 100.152344 C 435.339844 105.671875 430.863281 110.152344 425.339844 110.152344 C 419.816406 110.152344 415.339844 105.671875 415.339844 100.152344 C 415.339844 94.628906 419.816406 90.152344 425.339844 90.152344 C 430.863281 90.152344 435.339844 94.628906 435.339844 100.152344 \"/>\n<path style=\"fill-rule:nonzero;fill:rgb(100%,0%,0%);fill-opacity:1;stroke-width:1;stroke-linecap:butt;stroke-linejoin:miter;stroke:rgb(0%,0%,0%);stroke-opacity:1;stroke-miterlimit:10;\" d=\"M 360.460938 529.777344 C 360.460938 535.300781 355.984375 539.777344 350.460938 539.777344 C 344.9375 539.777344 340.460938 535.300781 340.460938 529.777344 C 340.460938 524.257813 344.9375 519.777344 350.460938 519.777344 C 355.984375 519.777344 360.460938 524.257813 360.460938 529.777344 \"/>\n<path style=\"fill-rule:nonzero;fill:rgb(100%,0%,0%);fill-opacity:1;stroke-width:1;stroke-linecap:butt;stroke-linejoin:miter;stroke:rgb(0%,0%,0%);stroke-opacity:1;stroke-miterlimit:10;\" d=\"M 437.375 575.496094 C 437.375 581.019531 432.898438 585.496094 427.375 585.496094 C 421.851563 585.496094 417.375 581.019531 417.375 575.496094 C 417.375 569.972656 421.851563 565.496094 427.375 565.496094 C 432.898438 565.496094 437.375 569.972656 437.375 575.496094 \"/>\n<path style=\"fill-rule:nonzero;fill:rgb(100%,0%,0%);fill-opacity:1;stroke-width:1;stroke-linecap:butt;stroke-linejoin:miter;stroke:rgb(0%,0%,0%);stroke-opacity:1;stroke-miterlimit:10;\" d=\"M 260.578125 580 C 260.578125 585.523438 256.101563 590 250.578125 590 C 245.054688 590 240.578125 585.523438 240.578125 580 C 240.578125 574.476563 245.054688 570 250.578125 570 C 256.101563 570 260.578125 574.476563 260.578125 580 \"/>\n<path style=\"fill-rule:nonzero;fill:rgb(100%,0%,0%);fill-opacity:1;stroke-width:1;stroke-linecap:butt;stroke-linejoin:miter;stroke:rgb(0%,0%,0%);stroke-opacity:1;stroke-miterlimit:10;\" d=\"M 448.019531 451.148438 C 448.019531 456.671875 443.542969 461.148438 438.019531 461.148438 C 432.496094 461.148438 428.019531 456.671875 428.019531 451.148438 C 428.019531 445.625 432.496094 441.148438 438.019531 441.148438 C 443.542969 441.148438 448.019531 445.625 448.019531 451.148438 \"/>\n</g>\n</svg>\n",
      "text/plain": [
       "<igraph.drawing.Plot at 0x224938e4910>"
      ]
     },
     "execution_count": 12,
     "metadata": {
      "image/svg+xml": {
       "isolated": true
      }
     },
     "output_type": "execute_result"
    }
   ],
   "source": [
    "plot(graph,mark_groups = True)"
   ]
  },
  {
   "cell_type": "code",
   "execution_count": 18,
   "metadata": {},
   "outputs": [
    {
     "name": "stdout",
     "output_type": "stream",
     "text": [
      "1 2 3 4 5 6 7 8 9 10 11 12 "
     ]
    }
   ],
   "source": [
    "def CheckHaveParent(PNSubgraph):\n",
    "   \n",
    "   lengthPN = len(PNSubGraph)\n",
    "   for i in range(lengthPN):\n",
    "         \n",
    "        if PNSubGraph[i]  > 0 :\n",
    "              return True \n",
    "   return False                   \n",
    "len_column = 17\n",
    "visited = []\n",
    "queue = []\n",
    "Level = [0] * len_column\n",
    "PN = dict((el,[]) for el in list(range(1,len_column)))\n",
    "Size = []\n",
    "threshPN = 2\n",
    "Distance = []\n",
    "\n",
    "def PNSubGraph(visited, graph, node):\n",
    "  visited.append(node)\n",
    "  queue.append(node)\n",
    "  \n",
    "  PN[node] = [element *-1 for element in data[node][0:threshPN]]\n",
    "  Level[node] = 0 \n",
    "  while queue:\n",
    "    s = queue.pop(0) \n",
    "    print (s, end = \" \") \n",
    "    \n",
    "    if s not in list(data.keys()) : \n",
    "        break\n",
    "    len_pn = len(PN[s])\n",
    "    if  len_pn < 2 : \n",
    "       for i in data[s][0:threshPN-len_pn] :\n",
    "            PN[s].append(-1*i)\n",
    "    for neighbour in data[s]:\n",
    "       if neighbour not in visited:\n",
    "        visited.append(neighbour)\n",
    "        queue.append(neighbour)\n",
    "        \n",
    "        #Distance_Path_To_Root = Level[s] + Distance[s][neighbour]\n",
    "        #Have_Parent = CheckHaveParent(PN[neighbour])\n",
    "        # if  Have_Parent : \n",
    "        #     Level[neighbour] = Distance_Path_To_Root\n",
    "        # else :\n",
    "        #     Level[neighbour] = -Distance_Path_To_Root \n",
    "\n",
    "       if len(PN[neighbour]) < threshPN : \n",
    "           PN[neighbour].append(s)\n",
    "\n",
    "\n",
    "PNSubGraph(visited, data, 1)"
   ]
  },
  {
   "cell_type": "code",
   "execution_count": 19,
   "metadata": {},
   "outputs": [
    {
     "data": {
      "text/plain": [
       "{1: [-2, -3],\n",
       " 2: [1, -5],\n",
       " 3: [1, -6],\n",
       " 4: [1, -5],\n",
       " 5: [2, 4],\n",
       " 6: [2, 3],\n",
       " 7: [2, 3],\n",
       " 8: [4, -10],\n",
       " 9: [5, 6],\n",
       " 10: [6, 7],\n",
       " 11: [9, -12],\n",
       " 12: [10, 11],\n",
       " 13: [],\n",
       " 14: [],\n",
       " 15: [],\n",
       " 16: []}"
      ]
     },
     "execution_count": 19,
     "metadata": {},
     "output_type": "execute_result"
    }
   ],
   "source": [
    "PN"
   ]
  }
 ],
 "metadata": {
  "kernelspec": {
   "display_name": "Python 3.8.8 ('base')",
   "language": "python",
   "name": "python3"
  },
  "language_info": {
   "codemirror_mode": {
    "name": "ipython",
    "version": 3
   },
   "file_extension": ".py",
   "mimetype": "text/x-python",
   "name": "python",
   "nbconvert_exporter": "python",
   "pygments_lexer": "ipython3",
   "version": "3.8.8"
  },
  "orig_nbformat": 4,
  "vscode": {
   "interpreter": {
    "hash": "49cb93f377a7abe7414b7b0f21fb3017538004a126cf690fb524202736b7fb92"
   }
  }
 },
 "nbformat": 4,
 "nbformat_minor": 2
}
