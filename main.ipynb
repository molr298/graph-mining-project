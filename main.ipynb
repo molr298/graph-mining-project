{
 "cells": [
  {
   "cell_type": "code",
   "execution_count": 44,
   "metadata": {},
   "outputs": [],
   "source": [
    "import networkx as nx\n",
    "import igraph as ig"
   ]
  },
  {
   "cell_type": "code",
   "execution_count": null,
   "metadata": {},
   "outputs": [],
   "source": [
    "def PNSubGraph(visited, graph, node):\n",
    "  visited.append(node)\n",
    "  queue.append(node)\n",
    "  \n",
    "  PN[node] = [element *-1 for element in data[node][0:threshPN]]\n",
    "  Level[node] = 0 \n",
    "  while queue:\n",
    "    s = queue.pop(0) \n",
    "    print (s, end = \" \") \n",
    "    \n",
    "    if s not in list(data.keys()) : \n",
    "        break\n",
    "    len_pn = len(PN[s])\n",
    "    if  len_pn < 2 : \n",
    "       for i in data[s][0:threshPN-len_pn] :\n",
    "            PN[s].append(-1*i)\n",
    "    for neighbour in data[s]:\n",
    "       if neighbour not in visited:\n",
    "        visited.append(neighbour)\n",
    "        queue.append(neighbour)\n",
    "        \n",
    "        #Distance_Path_To_Root = Level[s] + Distance[s][neighbour]\n",
    "        #Have_Parent = CheckHaveParent(PN[neighbour])\n",
    "        # if  Have_Parent : \n",
    "        #     Level[neighbour] = Distance_Path_To_Root\n",
    "        # else :\n",
    "        #     Level[neighbour] = -Distance_Path_To_Root \n",
    "\n",
    "       if len(PN[neighbour]) < threshPN : \n",
    "           PN[neighbour].append(s)"
   ]
  },
  {
   "cell_type": "code",
   "execution_count": 85,
   "metadata": {},
   "outputs": [
    {
     "data": {
      "image/png": "[encoded data removed]",
      "text/plain": [
       "<Figure size 432x288 with 1 Axes>"
      ]
     },
     "metadata": {},
     "output_type": "display_data"
    }
   ],
   "source": [
    "G = nx.fast_gnp_random_graph(13, 0.2, 120)\n",
    "nx.draw_networkx(G)"
   ]
  },
  {
   "cell_type": "code",
   "execution_count": 86,
   "metadata": {},
   "outputs": [
    {
     "data": {
      "text/plain": [
       "[[0, 2],\n",
       " [1, 1],\n",
       " [2, 1],\n",
       " [3, 3],\n",
       " [4, 2],\n",
       " [5, 1],\n",
       " [6, 3],\n",
       " [7, 3],\n",
       " [8, 1],\n",
       " [9, 3],\n",
       " [10, 3],\n",
       " [11, 2],\n",
       " [12, 1]]"
      ]
     },
     "execution_count": 86,
     "metadata": {},
     "output_type": "execute_result"
    }
   ],
   "source": [
    "V = list(G.degree())\n",
    "V.sort(key=lambda tup: tup[0])\n",
    "V = [list(_) for _ in V]\n",
    "N_vertex = len(V)\n",
    "V\n"
   ]
  },
  {
   "cell_type": "code",
   "execution_count": 87,
   "metadata": {},
   "outputs": [
    {
     "data": {
      "text/html": [
       "<div>\n",
       "<style scoped>\n",
       "    .dataframe tbody tr th:only-of-type {\n",
       "        vertical-align: middle;\n",
       "    }\n",
       "\n",
       "    .dataframe tbody tr th {\n",
       "        vertical-align: top;\n",
       "    }\n",
       "\n",
       "    .dataframe thead th {\n",
       "        text-align: right;\n",
       "    }\n",
       "</style>\n",
       "<table border=\"1\" class=\"dataframe\">\n",
       "  <thead>\n",
       "    <tr style=\"text-align: right;\">\n",
       "      <th></th>\n",
       "      <th>source</th>\n",
       "      <th>target</th>\n",
       "    </tr>\n",
       "  </thead>\n",
       "  <tbody>\n",
       "    <tr>\n",
       "      <th>0</th>\n",
       "      <td>0</td>\n",
       "      <td>3</td>\n",
       "    </tr>\n",
       "    <tr>\n",
       "      <th>1</th>\n",
       "      <td>0</td>\n",
       "      <td>11</td>\n",
       "    </tr>\n",
       "    <tr>\n",
       "      <th>2</th>\n",
       "      <td>1</td>\n",
       "      <td>3</td>\n",
       "    </tr>\n",
       "    <tr>\n",
       "      <th>3</th>\n",
       "      <td>2</td>\n",
       "      <td>7</td>\n",
       "    </tr>\n",
       "    <tr>\n",
       "      <th>4</th>\n",
       "      <td>3</td>\n",
       "      <td>6</td>\n",
       "    </tr>\n",
       "    <tr>\n",
       "      <th>5</th>\n",
       "      <td>4</td>\n",
       "      <td>9</td>\n",
       "    </tr>\n",
       "    <tr>\n",
       "      <th>6</th>\n",
       "      <td>4</td>\n",
       "      <td>10</td>\n",
       "    </tr>\n",
       "    <tr>\n",
       "      <th>7</th>\n",
       "      <td>5</td>\n",
       "      <td>9</td>\n",
       "    </tr>\n",
       "    <tr>\n",
       "      <th>8</th>\n",
       "      <td>6</td>\n",
       "      <td>7</td>\n",
       "    </tr>\n",
       "    <tr>\n",
       "      <th>9</th>\n",
       "      <td>6</td>\n",
       "      <td>10</td>\n",
       "    </tr>\n",
       "    <tr>\n",
       "      <th>10</th>\n",
       "      <td>7</td>\n",
       "      <td>11</td>\n",
       "    </tr>\n",
       "    <tr>\n",
       "      <th>11</th>\n",
       "      <td>8</td>\n",
       "      <td>10</td>\n",
       "    </tr>\n",
       "    <tr>\n",
       "      <th>12</th>\n",
       "      <td>9</td>\n",
       "      <td>12</td>\n",
       "    </tr>\n",
       "  </tbody>\n",
       "</table>\n",
       "</div>"
      ],
      "text/plain": [
       "    source  target\n",
       "0        0       3\n",
       "1        0      11\n",
       "2        1       3\n",
       "3        2       7\n",
       "4        3       6\n",
       "5        4       9\n",
       "6        4      10\n",
       "7        5       9\n",
       "8        6       7\n",
       "9        6      10\n",
       "10       7      11\n",
       "11       8      10\n",
       "12       9      12"
      ]
     },
     "execution_count": 87,
     "metadata": {},
     "output_type": "execute_result"
    }
   ],
   "source": [
    "edge_df = nx.to_pandas_edgelist(G)\n",
    "edge_df\n"
   ]
  },
  {
   "cell_type": "code",
   "execution_count": 88,
   "metadata": {},
   "outputs": [
    {
     "data": {
      "text/plain": [
       "array([[ 0,  3],\n",
       "       [ 0, 11],\n",
       "       [ 1,  3],\n",
       "       [ 2,  7],\n",
       "       [ 3,  6],\n",
       "       [ 4,  9],\n",
       "       [ 4, 10],\n",
       "       [ 5,  9],\n",
       "       [ 6,  7],\n",
       "       [ 6, 10],\n",
       "       [ 7, 11],\n",
       "       [ 8, 10],\n",
       "       [ 9, 12]], dtype=int64)"
      ]
     },
     "execution_count": 88,
     "metadata": {},
     "output_type": "execute_result"
    }
   ],
   "source": [
    "edge_list = edge_df.values\n",
    "edge_list"
   ]
  },
  {
   "cell_type": "code",
   "execution_count": 89,
   "metadata": {},
   "outputs": [
    {
     "data": {
      "text/plain": [
       "[[3, 11],\n",
       " [3],\n",
       " [7],\n",
       " [0, 1, 6],\n",
       " [9, 10],\n",
       " [9],\n",
       " [3, 7, 10],\n",
       " [2, 6, 11],\n",
       " [10],\n",
       " [4, 5, 12],\n",
       " [4, 6, 8],\n",
       " [0, 7],\n",
       " [9]]"
      ]
     },
     "execution_count": 89,
     "metadata": {},
     "output_type": "execute_result"
    }
   ],
   "source": [
    "E =  [[] for _ in range(N_vertex)]\n",
    "for e in edge_list:\n",
    "    E[e[0]].append(e[1])\n",
    "    E[e[1]].append(e[0])\n",
    "for e in E:\n",
    "    e.sort()\n",
    "E"
   ]
  },
  {
   "cell_type": "code",
   "execution_count": 90,
   "metadata": {},
   "outputs": [],
   "source": [
    "level = [-1]*len(V)\n",
    "count = [0]*len(V)"
   ]
  },
  {
   "cell_type": "code",
   "execution_count": 91,
   "metadata": {},
   "outputs": [
    {
     "data": {
      "text/plain": [
       "[[-3, -3],\n",
       " [3, 3],\n",
       " [7, 7],\n",
       " [0, 1],\n",
       " [9, 9],\n",
       " [9, 9],\n",
       " [3, -7],\n",
       " [11, -6],\n",
       " [10, 10],\n",
       " [-1, -4],\n",
       " [6, 4],\n",
       " [0, 0],\n",
       " [9, 9]]"
      ]
     },
     "execution_count": 91,
     "metadata": {},
     "output_type": "execute_result"
    }
   ],
   "source": [
    "thresh_PN = 2\n",
    "C_id = [None] * N_vertex\n",
    "PN = [[-N_vertex-1]*thresh_PN for _ in range(N_vertex)]\n",
    "size = [0]*N_vertex\n",
    "Q = [-1]  \n",
    "for i in range(N_vertex):\n",
    "    start = 0\n",
    "    end = 1\n",
    "    Q.insert(0, V[i][0])\n",
    "    level[i] = 0\n",
    "    C_id[i] = V[i]\n",
    "    while start!=end:\n",
    "        stop = end\n",
    "        j = start\n",
    "        while j <= end:\n",
    "            for d in E[Q[j]]:\n",
    "                if level[d]==-1:\n",
    "                    Q.append(d)\n",
    "                    end+=1\n",
    "                    level[d]=level[Q[j]]+1\n",
    "                    C_id[d]=C_id[Q[j]]\n",
    "                if count[d] < thresh_PN:\n",
    "                    if level[Q[j]] < level[d]:\n",
    "                        PN[d][count[d]] = Q[j]\n",
    "                        count[d]+=1\n",
    "                    elif level[Q[j]] == level[d]:\n",
    "                        PN[d][count[d]] = -Q[j]\n",
    "                        count[d]+=1\n",
    "            j+=1\n",
    "        start=stop\n",
    "    size[i]=end\n",
    "                        \n",
    "PN"
   ]
  }
 ],
 "metadata": {
  "kernelspec": {
   "display_name": "Python 3.9.7 ('base')",
   "language": "python",
   "name": "python3"
  },
  "language_info": {
   "codemirror_mode": {
    "name": "ipython",
    "version": 3
   },
   "file_extension": ".py",
   "mimetype": "text/x-python",
   "name": "python",
   "nbconvert_exporter": "python",
   "pygments_lexer": "ipython3",
   "version": "3.9.7"
  },
  "orig_nbformat": 4,
  "vscode": {
   "interpreter": {
    "hash": "359a41f86bf79d3f6bec2a31080a43b32290096c80c82384a8382a51f9fffeb2"
   }
  }
 },
 "nbformat": 4,
 "nbformat_minor": 2
}
